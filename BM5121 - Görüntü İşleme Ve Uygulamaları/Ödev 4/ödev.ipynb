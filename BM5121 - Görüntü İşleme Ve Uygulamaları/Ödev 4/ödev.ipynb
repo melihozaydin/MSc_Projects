{
 "cells": [
  {
   "cell_type": "markdown",
   "metadata": {},
   "source": [
    "Aşağıdaki fotoğrafta verildiği üzere farklı blok pencereleri için ortalama ve varyans filtre çıktılarını bulunuz ve sonuçları tartışınız. İşlem yapılacak başlangıç imgesi 512x512 piksel ve 8 bit olmalıdır. Blok penceresinin orjin koordinatın blok ortası olarak alınmalıdır.\n",
    "\n",
    "(https://stackoverflow.com/questions/34325176/blockwise-operations-in-numpy/34327984)\n",
    "(https://github.com/ilastik/lazyflow/blob/master/lazyflow/utility/blockwise_view.py)"
   ]
  },
  {
   "cell_type": "code",
   "execution_count": null,
   "metadata": {},
   "outputs": [],
   "source": []
  }
 ],
 "metadata": {
  "language_info": {
   "name": "python"
  },
  "orig_nbformat": 4
 },
 "nbformat": 4,
 "nbformat_minor": 2
}
