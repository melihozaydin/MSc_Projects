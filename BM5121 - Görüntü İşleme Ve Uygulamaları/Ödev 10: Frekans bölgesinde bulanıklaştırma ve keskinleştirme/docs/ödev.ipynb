{
 "cells": [
  {
   "cell_type": "code",
   "execution_count": 1,
   "metadata": {},
   "outputs": [],
   "source": [
    "import numpy as np\n",
    "import skimage.data as data\n",
    "import matplotlib.pyplot as plt"
   ]
  },
  {
   "cell_type": "code",
   "execution_count": null,
   "metadata": {},
   "outputs": [],
   "source": [
    "def circular_kernel(img, d0, shifted=True, low_pass=True):\n",
    "    \"\"\"\n",
    "    low pass filter\n",
    "    \"\"\"\n",
    "\n",
    "    # Calculate the size of the image\n",
    "    size = np.array(img.shape)\n",
    "    # Calculate the size of the filter\n",
    "    fsize = 2 ** np.ceil(np.log2(size)).astype(int)\n",
    "    print(\"fsize: \", fsize)\n",
    "    \n",
    "    # Calculate the center of the filter\n",
    "    center = (fsize - size) // 2 if not shifted else fsize // 2\n",
    "\n",
    "    # Calculate the distance of the pixel from the center\n",
    "    dist = lambda i,j: np.sqrt((i - center[0]) ** 2 + (j - center[1]) ** 2)\n",
    "\n",
    "    if low_pass:\n",
    "      filter_val = lambda i,j: 1 if dist(i,j) <= d0 else 0\n",
    "    else:\n",
    "      filter_val = lambda i,j: 1 if dist(i,j) >= d0 else 0\n",
    "\n",
    "    # Create the filter\n",
    "    filter = np.zeros(fsize, dtype=complex)\n",
    "    for i in range(fsize[0]):\n",
    "        for j in range(fsize[1]):\n",
    "            # Calculate the filter value\n",
    "            \n",
    "            filter[i, j] = filter_val(i, j)\n",
    "    \n",
    "    ## DEBUG\n",
    "    #print(filter.real)\n",
    "    plt.imshow(filter.real.astype(np.uint8), cmap='gray')\n",
    "    #plt.title(f'Filter {filter.shape}')\n",
    "    #plt.show()\n",
    "    return filter"
   ]
  },
  {
   "cell_type": "code",
   "execution_count": null,
   "metadata": {},
   "outputs": [],
   "source": [
    "def apply_filter(img, filter, shift=False):\n",
    "    fsize = np.array(filter.shape, dtype=int)\n",
    "    # Fourier transform the image\n",
    "    img_f = np.fft.fft2(img, fsize)\n",
    "    \n",
    "    if shift:\n",
    "        # shift the zero frequency component to the center of the filter\n",
    "        img_f = np.fft.fftshift(img_f)\n",
    "\n",
    "    # Apply the filter\n",
    "    result = img_f * filter\n",
    "    \n",
    "    if shift:\n",
    "        # Shift the zero frequency component back to the top left corner\n",
    "        result = np.fft.ifftshift(result)\n",
    "\n",
    "    # Inverse Fourier transform the image\n",
    "    result = np.fft.ifft2(result).real\n",
    "\n",
    "    return np.array(result, dtype=np.uint8)"
   ]
  },
  {
   "cell_type": "markdown",
   "metadata": {},
   "source": [
    "# 10.1) \n",
    "9. ödevde kullanılan ideal alçak geçiren filtre işlemini aynı kesim frekansları için Butterworth filtresi ile tekrarlayın ve Karşılaştırın.\n"
   ]
  },
  {
   "cell_type": "code",
   "execution_count": null,
   "metadata": {},
   "outputs": [],
   "source": []
  },
  {
   "cell_type": "code",
   "execution_count": null,
   "metadata": {},
   "outputs": [],
   "source": []
  },
  {
   "cell_type": "markdown",
   "metadata": {},
   "source": [
    "# 10.2)\n",
    "Farklı c1 ve c2 parametreleri için \n",
    "* (c1 = [0.5, 1, 1.2])\n",
    "* (c2 = [0, 0.5, 1, 1.5])\n",
    "\n",
    "frekans bölgesinde keskinleştirme işlemi yapın ve tartışın."
   ]
  },
  {
   "cell_type": "code",
   "execution_count": 2,
   "metadata": {},
   "outputs": [
    {
     "ename": "SyntaxError",
     "evalue": "unexpected EOF while parsing (2215553675.py, line 2)",
     "output_type": "error",
     "traceback": [
      "\u001b[0;36m  File \u001b[0;32m\"/tmp/ipykernel_1154/2215553675.py\"\u001b[0;36m, line \u001b[0;32m2\u001b[0m\n\u001b[0;31m    \u001b[0m\n\u001b[0m    ^\u001b[0m\n\u001b[0;31mSyntaxError\u001b[0m\u001b[0;31m:\u001b[0m unexpected EOF while parsing\n"
     ]
    }
   ],
   "source": [
    "def fourier_sharpening(img, c2):"
   ]
  },
  {
   "cell_type": "code",
   "execution_count": null,
   "metadata": {},
   "outputs": [],
   "source": []
  }
 ],
 "metadata": {
  "interpreter": {
   "hash": "2a0c0b08e09b01b887de4f302ed6f0edd06eb21adcb44ecb869e527a79ff52ee"
  },
  "kernelspec": {
   "display_name": "Python 3.8.10 64-bit ('YL': virtualenv)",
   "language": "python",
   "name": "python3"
  },
  "language_info": {
   "codemirror_mode": {
    "name": "ipython",
    "version": 3
   },
   "file_extension": ".py",
   "mimetype": "text/x-python",
   "name": "python",
   "nbconvert_exporter": "python",
   "pygments_lexer": "ipython3",
   "version": "3.8.10"
  },
  "orig_nbformat": 4
 },
 "nbformat": 4,
 "nbformat_minor": 2
}
