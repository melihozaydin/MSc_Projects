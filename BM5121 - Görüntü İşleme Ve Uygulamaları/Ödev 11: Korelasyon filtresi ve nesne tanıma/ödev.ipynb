{
 "cells": [
  {
   "cell_type": "markdown",
   "metadata": {},
   "source": [
    "# 11.a)\n",
    "\n",
    "8 bit bir resim içerisinde tespit etmek istenilen bir detay seçip, korelasyon filtresi ile tespit edin."
   ]
  },
  {
   "cell_type": "code",
   "execution_count": null,
   "metadata": {},
   "outputs": [],
   "source": [
    "## https://songhuiming.github.io/pages/2017/04/16/convolve-correlate-and-image-process-in-numpy/\n",
    "# https://stackify.dev/236714-finding-a-subimage-inside-a-numpy-image\n",
    "\n",
    "import scipy.ndimage\n",
    "from numpy import mean, std\n",
    "\n",
    "# a, b contain image and template in numpy arrays\n",
    "correlation = scipy.ndimage.correlate(a, b)\n",
    "matches = (correlation-mean(correlation)) > 5*std(correlation) # tune depending on level of noise"
   ]
  }
 ],
 "metadata": {
  "language_info": {
   "name": "python"
  },
  "orig_nbformat": 4
 },
 "nbformat": 4,
 "nbformat_minor": 2
}
