{
 "cells": [
  {
   "attachments": {},
   "cell_type": "markdown",
   "metadata": {},
   "source": [
    "Kampüs içerisinden farklı konum ve açılardan çekilmiş fakat benzer içerik barındıran iki \n",
    "görüntüyü images/campus  klasörü  altından  belirleyiniz. Mesela P1070507.jpg ve \n",
    "P1070509.jpg  olabilir.  Görüntüleri  kampus1.jpg  ve  kampus2.jpg  şeklinde  kaydediniz. \n",
    "Karmaşayı azaltmak için görüntünün boyutunu öncesinde uygun ölçüde küçültebilirsiniz. \n",
    "Ardından  kampus1.jpg görüntüsünü kampus2.jpg görüntüsüne çeviren homografi \n",
    "matrisinin parametrelerini RANSAC algoritması ile bulunuz. Bunun için kampus1.jpg  ve \n",
    "kampus2.jpg görüntüleri üzerinde hazır SIFT, SURF veya ORBS algoritmasını çalıştırarak \n",
    "nokta eşlemelerini belirleyiniz. Belirlediğiniz nokta eşlemeleri ile her  seferinde  rasgele  4 \n",
    "eşlenmiş nokta çifti seçerek 100 tekrarla RANSAC algoritmasını çalıştırınız. Nihayette en \n",
    "yüksek sayıda uyumlu noktayı içeren homografi matrisini belirleyiniz.  Bu  homografinin \n",
    "uyumlu noktalarını ve aykırı noktalarını kampus1.jpg ve kampus2.jpg görüntüleri üzerine \n",
    "çizdirerek  gösteriniz.  kampus2.jpg  görüntüsünü  bulduğunuz  bu  homografi  matrisi  ile \n",
    "eğme (warping) işlemini çift doğrusal ara değerleme (bilinear interpolation) kullanarak \n",
    "gerçekleştiriniz.  Eğilmiş kampus2.jpg ile kampus1.jpg görüntülerini daha büyük bir \n",
    "görüntü düzleminde harmanlayınız (blending). \n",
    " \n",
    " \n",
    "Teslim: \n",
    " Yaptığınız çalışmadan tek bir pdf raporu hazırlayıp Classroom’a yükleyiniz.  \n",
    " Raporda,  \n",
    "1. orijinal  görüntülerin  işlenmesi  ile  elde  edilen  uyumlu  veya  aykırı  noktalar, \n",
    "eğilmiş görüntüler, arka plan, ön plan ve akış görüntüleri, diğer ara görüntüler ve \n",
    "karmaşa matrisi benzeri bilgileri gerektiği yerde ekleyerek açıklayınız.  \n",
    "2. kullandığınız algoritmalardan kısaca bahsediniz.  \n",
    "3. her geliştirdiğiniz uygulama neticesinde elde ettiğiniz bilgi ve görüntüleri kısaca \n",
    "yorumlayıp tartışınız. \n",
    " Son olarak kaynak  kodlarını  açıklamalı  olarak hazırlayıp  aynı  raporun  sonuna \n",
    "ekleyiniz. \n",
    " Ödeve isminizi yazmayı unutmayınız."
   ]
  },
  {
   "cell_type": "code",
   "execution_count": null,
   "metadata": {},
   "outputs": [],
   "source": []
  },
  {
   "attachments": {},
   "cell_type": "markdown",
   "metadata": {},
   "source": [
    "2- images\\bridge-l  video  görüntüsünün  tüm  çerçevelerinde  histogram eşitlemenin ardından \n",
    "peş  peşe  ortalama  (running  average)  yöntemini  kullanarak  arka  plan  çıkarma \n",
    "gerçekleştiriniz.  Bunun  için  ekte  verilen  avi_reader.py  dosyası  değiştirilebilir.  İlk  50 \n",
    "çerçeveyi arka planı belirlemek için kullanınız. t = 50 anında okunan çerçeveden itibaren \n",
    "arka  plan  bilgisini  çıkarıp  tam  sayı  değerini  elde  ettikten  sonra  uygun  bir  eşik  değeri \n",
    "kullanarak  ön  plan bilgisini elde ediniz. Arka plan matrisini her okuduğunuz çerçevede \n",
    "𝐵𝑡+1 =𝛼𝐼𝑡 +(1−𝛼)𝐵𝑡 denklemine göre güncelleyiniz. Denklemde 𝛼 = 0,005 gibi \n",
    "küçük bir değer olabilir.  Eşikleme neticesinde elde edilen ön plan görüntülerinde bağlı \n",
    "bileşen  analizi  yapıp  bağlı  piksel  sayısı  belirli  bir  büyüklüğün  üzerinde  olan  bağlı \n",
    "bileşenleri seçerek hareketli bölgeye denk gelen kısımları belirlemeye çalışınız.  \n",
    "Benzer bir çerçeve  döngüsü  içerisinde  ardışık  çerçeve  çiftleri  için  3x3 büyüklükle \n",
    "başlayan  pencereler  kullanarak  optik  akış  algoritmasını  uygulayınız  ve  her  piksel  için \n",
    "(u,v) kayma bilgisini elde ediniz. Her piksel için pencere büyüklüğünü her adımda ikişer \n",
    "arttırıp bir önceki adımda belirlenen (u,v) değeriyle benzer bir kayma elde edene kadar \n",
    "(örneğin iki (u,v) arasındaki mesafe 1 veya 2 piksel altında olana değin) tekrar ediniz. \n",
    "Uygun gördüğünüz iki çerçeve için  arka  plan  ve  ön  plan  görüntüleri  ile  sadece  seçilen \n",
    "bağlı bileşen piksellerine ait akış genliği ve akış açısı görüntülerini hesaplatıp raporunuza \n",
    "ekleyiniz.  Videoda  ön  planı  bulma  başarısı  ve  genlik  ile  açı  görüntülerinin  araçların \n",
    "hareket bilgilerini ne derece yansıttığı üzerine değerlendirmede bulununuz. \n"
   ]
  },
  {
   "cell_type": "code",
   "execution_count": null,
   "metadata": {},
   "outputs": [],
   "source": []
  },
  {
   "attachments": {},
   "cell_type": "markdown",
   "metadata": {},
   "source": [
    "\n",
    "3- Edinburgh  mutfak  eşyaları  veri  setini  kullanarak  sınıflandırma  amaçlı  derin  öğrenme \n",
    "modelleri eğitip başarılarını değerlendiriniz. Bunun için ekte verilen transferLearning.py \n",
    "dosyasından  faydalanınız.  Bu  dosyadaki  load_data()  fonksiyonu  verilen bir dizin \n",
    "içerisinde yer alan tüm RAW dosyalarını okuyup 3-1 oranında eğitim ve test olarak ikiye \n",
    "ayırmaktadır. Uygulamayı problemsiz çalıştırma için Tensorflow kütüphanesine ek olarak \n",
    "imutils ve scikit-learn kütüphanelerini şu komutlarla kurunuz. \n",
    "\n",
    "\n",
    "\n",
    "conda install -c conda-forge imutils \n",
    "conda install -c conda-forge scikit-learn\n",
    " \n",
    "\n",
    "\n",
    "\n",
    " Uygulamanın  ilk  kısmı  için  temelde  get_transfer_model()  fonksiyonu \n",
    "tamamlanacaktır.  Bu  fonksiyonda  nakil  öğrenme  (transfer  learning)  için  VGG-16 \n",
    "modeli  tüm  bağlı  (fully  connected)  katmanları  include_top  =  False  seçeneğiyle \n",
    "çıkartılarak imagenet için öğrenilmiş ağırlıklar ile giriş katmanı (224, 224, 3) boyutlu \n",
    "görüntüleri  alacak  şekilde  yüklenmiştir.  Yüklenen  bu  VGG-16 modelinin \n",
    "katmanlarında öğrenme devre dışı bırakılarak filtrelerin yeterince ayırt edici özellikler \n",
    "çıkarabiliyor olmasından faydalanılacaktır. Bu modele ek olarak uygun  gördüğünüz \n",
    "conv2D, AveragePooling2D, MaxPooling2D, Dense, Flatten, Dropout, \n",
    "BatchNormalization  vb.  katmaları  ekleyerek  modeli  önceden  paylaşılan  10  mutfak \n",
    "araç  ve  gerecini  sınıflandıracak  şekilde  dönüştürünüz.  Modelin  doğru  bir  şekilde \n",
    "oluşturulması  durumunda  train_model  ve  evaluate_model  fonksiyonları  çalışacaktır. \n",
    "Gerek görüldüğü takdirde train_model ve evaluate_model fonksiyonlarında değişiklik \n",
    "yapılabilir. Not: İsteyenler orijinal verisetini indirip 20 sınıf üzerinden de çalışabilir. \n",
    " Uygulamanın  ikinci  kısmı  için  get_your_model()  fonksiyonu  tamamlanacaktır.  Bu \n",
    "kısımda  sadece  kendi  üreteceğiniz  bir  derin  öğrenme  modeli  oluşturulacaktır.  Yine \n",
    "train_model  ve  evaluate_model  fonksiyonları  kullanılarak  eğitim  ve  değerlendirme \n",
    "gerçekleştirilecektir. Not: Mevcut  bilgisayar  alt  yapınız  dolayısıyla  eğitimin \n",
    "gerçekleşmesi  zaman  alabilir.  Bunun  için  oluşturduğunuz  modellerdeki  parametre \n",
    "sayılarının  fazla  yüksek  olmamasına,  epoch  değerinin  çok  büyük  olmamasına  ve \n",
    "sadece 10 sınıflı veri kümesi üzerinde çalışmaya dikkat edebilirsiniz.  Fakat  bunların \n",
    "modelin  başarısını  arttırmak  için  yeterli  büyüklükte  olması  gerektiği  de \n",
    "unutulmamalıdır.  Alternatif  olarak  Google  Collaboratory veya Kaggle benzeri \n",
    "platformların hesaplama kapasitelerinden yararlanabilirsiniz. \n",
    " Geliştireceğiniz  bu  iki  derin  öğrenme  modelinin  katmanlarını şematik  olarak \n",
    "açıklayınız.  Test  verisi  üzerinde  nakil  öğrenme  ile  mi  yoksa  kendi  oluşturduğunuz \n",
    "model ile mi daha yüksek başarılar elde ettiğinizi değerlendiriniz. Değerlendirmenin \n",
    "hep  aynı  eğitim  ve  test  kümesi  kullanılarak  gerçekleştirilmesini  garantilemek  için \n",
    "train_test_split fonksiyonundaki random_state=42 seçeneğini değiştirmeyiniz. \n",
    " \n",
    "Not:  Ödev için gerektiği yerde derste referans olarak verilen kodları veya hazır kütüphane \n",
    "fonksiyonlarını kullanabilirsiniz. "
   ]
  },
  {
   "cell_type": "markdown",
   "metadata": {},
   "source": []
  }
 ],
 "metadata": {
  "kernelspec": {
   "display_name": "Python 3",
   "language": "python",
   "name": "python3"
  },
  "language_info": {
   "name": "python",
   "version": "3.10.9 (tags/v3.10.9:1dd9be6, Dec  6 2022, 20:01:21) [MSC v.1934 64 bit (AMD64)]"
  },
  "orig_nbformat": 4,
  "vscode": {
   "interpreter": {
    "hash": "fa9786bbcc1efa7dcce3aeeaad1e784806d865e00bdde63ea2fd36d9bf1b19bf"
   }
  }
 },
 "nbformat": 4,
 "nbformat_minor": 2
}
