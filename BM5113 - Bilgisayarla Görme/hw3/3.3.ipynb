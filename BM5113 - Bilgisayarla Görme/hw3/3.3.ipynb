{
 "cells": [
  {
   "cell_type": "markdown",
   "metadata": {},
   "source": [
    "Ödevin üçüncü kısmında verilen faces.mat veri dosyası içerisindeki 32x32 boyutlu 5000 yüz \n",
    "görüntüsünü okuyunuz. Bunun için scipy.io.loadmat fonksiyonundan  yararlanınız. \n",
    "Okuduğunuz  bu  veri  seti  için PCA algoritmasını çalıştırıp veri seti örneklerinin özdeğer, \n",
    "özvektör ve ortalamasını belirleyiniz.  Görüntülerin  en  önemli  ilk  bir,  iki  ve  üç  öz  vektörüne \n",
    "göre belirlenen bir, iki ve üç parametresini sırasıyla bir boyutlu, iki boyutlu ve 3 boyutlu plot \n",
    "fonksiyonuyla  ilk  20  kişi  için  farklı  renklerde  çizdiriniz.  PCA  ayrıştırmasına  göre  farklı \n",
    "kişilerin  grafikte  hangi  konumlarda  bulunduğunu  değerlendiriniz.  Ortalama  görüntüyü  ve \n",
    "değişen sayıda özvektörü kullanarak  5 kişinin  görüntüsünü  yeniden  üretiniz.  Raporunuzda \n",
    "değişen sayıda özvektörle yeniden üretilmiş bu görüntülere yer verip bunları yorumlayınız. \n"
   ]
  }
 ],
 "metadata": {
  "language_info": {
   "name": "python"
  },
  "orig_nbformat": 4
 },
 "nbformat": 4,
 "nbformat_minor": 2
}
