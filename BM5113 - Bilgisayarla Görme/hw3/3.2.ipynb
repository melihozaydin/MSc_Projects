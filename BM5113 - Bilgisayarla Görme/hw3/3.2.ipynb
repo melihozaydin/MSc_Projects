{
 "cells": [
  {
   "cell_type": "markdown",
   "metadata": {},
   "source": [
    "Ödevin  ikinci  kısmında  verilen  metronome  video  görüntüsü  üzerinde  peş  peşe  ortalama \n",
    "(running average) yöntemini kullanarak arka plan çıkarma gerçekleştiriniz. t anında okunan \n",
    "çerçeveden arka plan bilgisini çıkarıp tam sayı değerini elde ettikten sonra uygun bir eşik \n",
    "değeri kullanarak ön plan bilgisini elde ediniz. Arka plan matrisini her okuduğunuz çerçevede \n",
    "𝐵𝑡+1 =𝛼𝐼𝑡 +(1−𝛼)𝐵𝑡  denklemine  göre  güncelleyiniz.  Denklemde  𝛼 =  0,005  gibi  küçük \n",
    "bir  değer  olabilir.  Eşikleme  neticesinde  elde  edilen  ön  plan  görüntülerinde  bağlı  bileşen \n",
    "analizi yapıp bağlı piksel sayısı belirli bir büyüklüğün üzerinde olan bağlı bileşenleri seçerek \n",
    "hareketli  bölgeye  denk gelen kısımları belirlemeye çalışınız. Ardından sadece seçilen bağlı \n",
    "bileşen pikselleri için 3x3 büyüklükle başlayan pencereler kullanarak optik akış algoritmasını \n",
    "uygulayınız  ve  her  piksel  için  (u,v)  kayma  bilgisini  elde  ediniz.  Her  piksel  için  pencere \n",
    "büyüklüğünü her adımda ikişer arttırıp bir önceki adımda belirlenen (u,v) değeriyle benzer bir \n",
    "kayma elde edene kadar (örneğin iki (u,v) arasındaki mesafe 1 veya 2 piksel altında olana \n",
    "değin) tekrar ediniz. Uygun gördüğünüz iki  çerçeve  için  ön  plan, akış genliği ve akış açısı \n",
    "görüntülerini hesaplatıp raporunuza ekleyiniz. Videoda ön  planı bulma başarısı ve genlik ile \n",
    "açı  görüntülerinin  metronomun hareket  bilgilerini  ne  derece  yansıttığı  üzerine \n",
    "değerlendirmede bulununuz."
   ]
  },
  {
   "cell_type": "markdown",
   "metadata": {},
   "source": []
  }
 ],
 "metadata": {
  "language_info": {
   "name": "python"
  },
  "orig_nbformat": 4
 },
 "nbformat": 4,
 "nbformat_minor": 2
}
