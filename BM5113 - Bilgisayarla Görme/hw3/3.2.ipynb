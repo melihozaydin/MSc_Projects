{
 "cells": [
  {
   "cell_type": "markdown",
   "metadata": {},
   "source": [
    "Ödevin  ikinci  kısmında  verilen  metronome  video  görüntüsü  üzerinde  peş  peşe  ortalama \n",
    "(running average) yöntemini kullanarak arka plan çıkarma gerçekleştiriniz. \n",
    "t anında okunan çerçeveden arka plan bilgisini çıkarıp tam sayı değerini elde ettikten sonra uygun bir eşik değeri kullanarak ön plan bilgisini elde ediniz. \n",
    "\n",
    "Arka plan matrisini her okuduğunuz çerçevede 𝐵𝑡+1 =𝛼𝐼𝑡 +(1−𝛼)𝐵𝑡  denklemine  göre  güncelleyiniz. \n",
    "\n",
    "Denklemde 𝛼 = 0,005 gibi küçük bir değer olabilir.\n",
    "Eşikleme neticesinde elde edilen ön plan görüntülerinde bağlı bileşen analizi yapıp bağlı piksel sayısı belirli bir büyüklüğün üzerinde olan bağlı bileşenleri seçerek hareketli bölgeye denk gelen kısımları belirlemeye çalışınız. \n",
    "\n",
    "Ardından sadece seçilen bağlı bileşen pikselleri için 3x3 büyüklükle başlayan pencereler kullanarak optik akış algoritmasını uygulayınız ve her piksel için (u,v) kayma bilgisini elde ediniz.\n",
    "\n",
    "Her piksel için pencere büyüklüğünü her adımda ikişer arttırıp bir önceki adımda belirlenen (u,v) değeriyle benzer bir kayma elde edene kadar (örneğin iki (u,v) arasındaki mesafe 1 veya 2 piksel altında olana değin) tekrar ediniz. \n",
    "\n",
    "Uygun gördüğünüz iki  çerçeve  için  ön  plan, akış genliği ve akış açısı görüntülerini hesaplatıp raporunuza ekleyiniz. \n",
    "\n",
    "Videoda ön planı bulma başarısı ve genlik ile açı görüntülerinin metronomun hareket bilgilerini ne derece yansıttığı üzerine değerlendirmede bulununuz."
   ]
  },
  {
   "cell_type": "markdown",
   "metadata": {},
   "source": []
  }
 ],
 "metadata": {
  "language_info": {
   "name": "python"
  },
  "orig_nbformat": 4
 },
 "nbformat": 4,
 "nbformat_minor": 2
}
