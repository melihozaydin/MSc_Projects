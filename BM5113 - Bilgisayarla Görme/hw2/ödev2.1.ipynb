{
 "cells": [
  {
   "attachments": {},
   "cell_type": "markdown",
   "metadata": {},
   "source": [
    "## Sources:\n",
    "https://github.com/maxbozza/HOG-SVMlight-trainer/blob/master/train_SVMlight.py\n",
    "\n",
    "https://github.com/aarcosg/object-detector-svm-hog-python\n"
   ]
  },
  {
   "attachments": {},
   "cell_type": "markdown",
   "metadata": {},
   "source": [
    "### 1-) \n",
    "\n",
    "* “calculator.tif” dosyasındaki gri ölçekli görüntüde bulunan E harflerini ‘template.tif’ görüntüsünü kullanarak hem isabet-veya-ıska (hit-or-miss) dönüşümü hem de kalıp (template) eşleme yöntemi ile bulmaya çalışınız. \n",
    "* İsabet-veya-ıska dönüşümü için işlem öncesinde “calculator.tif” ve template.tif’ görüntülerini bir eşik değeri kullanarak ikili (binary) görüntülere dönüştürünüz. \n",
    "* Kalıp eşleme için ise normalleştirilmiş çapraz korelasyon (normalized cross correlation- NCC) formülünün değerini hesaplatarak görüntü üzerinde kalıp ile arama yapınız."
   ]
  },
  {
   "cell_type": "code",
   "execution_count": null,
   "metadata": {},
   "outputs": [],
   "source": [
    "import cv2\n",
    "import matplotlib.pyplot as plt\n",
    "import numpy as np\n",
    "\n",
    "from utils import img_read\n",
    "from utils import show_hist"
   ]
  },
  {
   "cell_type": "code",
   "execution_count": null,
   "metadata": {},
   "outputs": [
    {
     "ename": "",
     "evalue": "",
     "output_type": "error",
     "traceback": [
      "\u001b[1;31mRunning cells with 'c:\\Users\\XTI\\AppData\\Local\\Microsoft\\WindowsApps\\python3.9.exe' requires ipykernel package.\n",
      "\u001b[1;31mRun the following command to install 'ipykernel' into the Python environment. \n",
      "\u001b[1;31mCommand: 'c:/Users/XTI/AppData/Local/Microsoft/WindowsApps/python3.9.exe -m pip install ipykernel -U --user --force-reinstall'"
     ]
    }
   ],
   "source": [
    "img = img_read('../images/calculator.tif')"
   ]
  },
  {
   "cell_type": "code",
   "execution_count": null,
   "metadata": {},
   "outputs": [],
   "source": []
  }
 ],
 "metadata": {
  "kernelspec": {
   "display_name": "Python 3",
   "language": "python",
   "name": "python3"
  },
  "language_info": {
   "codemirror_mode": {
    "name": "ipython",
    "version": 3
   },
   "file_extension": ".py",
   "mimetype": "text/x-python",
   "name": "python",
   "nbconvert_exporter": "python",
   "pygments_lexer": "ipython3",
   "version": "3.9.13 (tags/v3.9.13:6de2ca5, May 17 2022, 16:36:42) [MSC v.1929 64 bit (AMD64)]"
  },
  "orig_nbformat": 4,
  "vscode": {
   "interpreter": {
    "hash": "669f835fc2e689b02cc4566e89621f3ed153493b040cfef865269792c9bf7bd8"
   }
  }
 },
 "nbformat": 4,
 "nbformat_minor": 2
}
