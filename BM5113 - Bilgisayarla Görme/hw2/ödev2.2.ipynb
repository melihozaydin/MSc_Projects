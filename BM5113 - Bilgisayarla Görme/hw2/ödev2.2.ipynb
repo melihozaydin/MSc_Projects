{
 "cells": [
  {
   "attachments": {},
   "cell_type": "markdown",
   "metadata": {},
   "source": [
    "## Sources:\n",
    "https://github.com/maxbozza/HOG-SVMlight-trainer/blob/master/train_SVMlight.py\n",
    "\n",
    "https://github.com/aarcosg/object-detector-svm-hog-python\n"
   ]
  },
  {
   "attachments": {},
   "cell_type": "markdown",
   "metadata": {},
   "source": [
    "2-) \n",
    "\n",
    "* İlk ödevde ‘images/jpg/building.tif’ görüntüsü ile geliştirdiğiniz ölçek uzayı üzerinde \n",
    "yerel maksimum/yerel minimum noktaları belirlenecektir. \n",
    "\n",
    "* Ölçek uzayı olarak DoG filtreleme neticesinde ürettiğiniz 7 görüntüyü kullanabilirsiniz. \n",
    "\n",
    "* Yerel maksimum noktaları her bir pikselin 26-komşuluğu (9 komşu bir önceki ölçek, 8 komşu mevcut ölçek, 9 komşu bir sonraki ölçek için) kontrol edilerek belirlenecektir. \n",
    "\n",
    "* Yerel minimum için ise yerel maksimum bulmada kullandığınız sürecin aynısını ölçek uzayının işaretini tersine çevirerek çalıştırınız. \n",
    "\n",
    "* Elde ettiğiniz yerel maksimum ve minimum noktalarının tam sayı değerleri üzerinde uygun bir eşik değeri kullanınız (0,005 gibi küçük bir değer olabilir veya noktaların tamsayı değerlerine göre belirlenmiş bir değer olabilir, örneğin 0,05 * en büyük tamsayı değeri gibi). \n",
    "\n",
    "* Son olarak belirlediğiniz yerel noktaların kenar olma olasılığı yüksek olanlarını temizlemek için Hessian matrisine bağlı aşağıdaki koşulu kullanınız. \n",
    "\n",
    "* Elde ettiğiniz ilgi noktalarını ‘building.tif’ görüntüsü üzerinde genişletme ile gösteriniz. \n",
    "\n",
    "0 ≤ 𝑡𝑟(𝐻𝜎)2 \\cfrac det(𝐻𝜎)≤12\n",
    "\n",
    "𝑘𝑖 𝑏𝑢𝑟𝑎𝑑𝑎 𝐻𝜎 =[𝐿𝜎𝑥𝑥 𝐿𝜎𝑥𝑦 𝐿𝜎𝑦𝑥 𝐿𝜎𝑦𝑦] 𝑣𝑒 𝐿𝜎𝑥𝑥 =𝜕2(𝐿𝜎) / 𝜕𝑥2"
   ]
  },
  {
   "cell_type": "code",
   "execution_count": null,
   "metadata": {},
   "outputs": [],
   "source": []
  },
  {
   "cell_type": "markdown",
   "metadata": {},
   "source": []
  }
 ],
 "metadata": {
  "kernelspec": {
   "display_name": "Python 3",
   "language": "python",
   "name": "python3"
  },
  "language_info": {
   "codemirror_mode": {
    "name": "ipython",
    "version": 3
   },
   "file_extension": ".py",
   "mimetype": "text/x-python",
   "name": "python",
   "nbconvert_exporter": "python",
   "pygments_lexer": "ipython3",
   "version": "3.9.13 (tags/v3.9.13:6de2ca5, May 17 2022, 16:36:42) [MSC v.1929 64 bit (AMD64)]"
  },
  "orig_nbformat": 4,
  "vscode": {
   "interpreter": {
    "hash": "669f835fc2e689b02cc4566e89621f3ed153493b040cfef865269792c9bf7bd8"
   }
  }
 },
 "nbformat": 4,
 "nbformat_minor": 2
}
