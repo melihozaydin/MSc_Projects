{
 "cells": [
  {
   "cell_type": "code",
   "execution_count": 1,
   "metadata": {},
   "outputs": [
    {
     "name": "stdout",
     "output_type": "stream",
     "text": [
      "/mnt/c/Users/XTI/Desktop/Yüksek Lisans/MSc_Projects/BM5113 - Bilgisayarla Görme/final_kısım_I\n"
     ]
    }
   ],
   "source": [
    "from classification import *\n",
    "!pwd"
   ]
  },
  {
   "cell_type": "code",
   "execution_count": 2,
   "metadata": {},
   "outputs": [
    {
     "name": "stdout",
     "output_type": "stream",
     "text": [
      "[INFO] veri yukleniyor...\n",
      "896\n"
     ]
    },
    {
     "name": "stderr",
     "output_type": "stream",
     "text": [
      "imagePath: ./data/all/WOODEN_SPOON/RAW/woodenspoonraw9.JPG, maskPath: ./data/all/WOODEN_SPOON/BINARY/woodenspoonbinary9.png, className: WOODEN_SPOON: 100%|██████████| 896/896 [02:13<00:00,  6.73it/s]       \n"
     ]
    },
    {
     "data": {
      "text/plain": [
       "((672, 224, 224, 3), (672, 20), (224, 224, 224, 3), (224, 20))"
      ]
     },
     "execution_count": 2,
     "metadata": {},
     "output_type": "execute_result"
    }
   ],
   "source": [
    "# Veriyi yükle ve eğitim ve test olarak ayır.\n",
    "trainX, testX, trainY, testY, lb = load_data(dataset_path=\"./data/all\", mode=\"classification\")\n",
    "trainX.shape, trainY.shape, testX.shape, testY.shape"
   ]
  },
  {
   "cell_type": "markdown",
   "metadata": {},
   "source": [
    "## Classifier"
   ]
  },
  {
   "cell_type": "code",
   "execution_count": 3,
   "metadata": {},
   "outputs": [
    {
     "name": "stderr",
     "output_type": "stream",
     "text": [
      "2022-01-15 20:06:37.766057: I tensorflow/stream_executor/cuda/cuda_gpu_executor.cc:925] could not open file to read NUMA node: /sys/bus/pci/devices/0000:26:00.0/numa_node\n",
      "Your kernel may have been built without NUMA support.\n",
      "2022-01-15 20:06:37.773415: I tensorflow/stream_executor/cuda/cuda_gpu_executor.cc:925] could not open file to read NUMA node: /sys/bus/pci/devices/0000:26:00.0/numa_node\n",
      "Your kernel may have been built without NUMA support.\n",
      "2022-01-15 20:06:37.773798: I tensorflow/stream_executor/cuda/cuda_gpu_executor.cc:925] could not open file to read NUMA node: /sys/bus/pci/devices/0000:26:00.0/numa_node\n",
      "Your kernel may have been built without NUMA support.\n",
      "2022-01-15 20:06:37.774879: I tensorflow/core/platform/cpu_feature_guard.cc:151] This TensorFlow binary is optimized with oneAPI Deep Neural Network Library (oneDNN) to use the following CPU instructions in performance-critical operations:  AVX2 FMA\n",
      "To enable them in other operations, rebuild TensorFlow with the appropriate compiler flags.\n",
      "2022-01-15 20:06:37.775887: I tensorflow/stream_executor/cuda/cuda_gpu_executor.cc:925] could not open file to read NUMA node: /sys/bus/pci/devices/0000:26:00.0/numa_node\n",
      "Your kernel may have been built without NUMA support.\n",
      "2022-01-15 20:06:37.776280: I tensorflow/stream_executor/cuda/cuda_gpu_executor.cc:925] could not open file to read NUMA node: /sys/bus/pci/devices/0000:26:00.0/numa_node\n",
      "Your kernel may have been built without NUMA support.\n",
      "2022-01-15 20:06:37.776691: I tensorflow/stream_executor/cuda/cuda_gpu_executor.cc:925] could not open file to read NUMA node: /sys/bus/pci/devices/0000:26:00.0/numa_node\n",
      "Your kernel may have been built without NUMA support.\n",
      "2022-01-15 20:06:38.338239: I tensorflow/stream_executor/cuda/cuda_gpu_executor.cc:925] could not open file to read NUMA node: /sys/bus/pci/devices/0000:26:00.0/numa_node\n",
      "Your kernel may have been built without NUMA support.\n",
      "2022-01-15 20:06:38.338647: I tensorflow/stream_executor/cuda/cuda_gpu_executor.cc:925] could not open file to read NUMA node: /sys/bus/pci/devices/0000:26:00.0/numa_node\n",
      "Your kernel may have been built without NUMA support.\n",
      "2022-01-15 20:06:38.338660: I tensorflow/core/common_runtime/gpu/gpu_device.cc:1609] Could not identify NUMA node of platform GPU id 0, defaulting to 0.  Your kernel may not have been built with NUMA support.\n",
      "2022-01-15 20:06:38.339027: I tensorflow/stream_executor/cuda/cuda_gpu_executor.cc:925] could not open file to read NUMA node: /sys/bus/pci/devices/0000:26:00.0/numa_node\n",
      "Your kernel may have been built without NUMA support.\n",
      "2022-01-15 20:06:38.339072: I tensorflow/core/common_runtime/gpu/gpu_device.cc:1525] Created device /job:localhost/replica:0/task:0/device:GPU:0 with 9600 MB memory:  -> device: 0, name: NVIDIA GeForce GTX 1080 Ti, pci bus id: 0000:26:00.0, compute capability: 6.1\n"
     ]
    },
    {
     "name": "stdout",
     "output_type": "stream",
     "text": [
      "Model: \"vgg16\"\n",
      "_________________________________________________________________\n",
      " Layer (type)                Output Shape              Param #   \n",
      "=================================================================\n",
      " input_1 (InputLayer)        [(None, 224, 224, 3)]     0         \n",
      "                                                                 \n",
      " block1_conv1 (Conv2D)       (None, 224, 224, 64)      1792      \n",
      "                                                                 \n",
      " block1_conv2 (Conv2D)       (None, 224, 224, 64)      36928     \n",
      "                                                                 \n",
      " block1_pool (MaxPooling2D)  (None, 112, 112, 64)      0         \n",
      "                                                                 \n",
      " block2_conv1 (Conv2D)       (None, 112, 112, 128)     73856     \n",
      "                                                                 \n",
      " block2_conv2 (Conv2D)       (None, 112, 112, 128)     147584    \n",
      "                                                                 \n",
      " block2_pool (MaxPooling2D)  (None, 56, 56, 128)       0         \n",
      "                                                                 \n",
      " block3_conv1 (Conv2D)       (None, 56, 56, 256)       295168    \n",
      "                                                                 \n",
      " block3_conv2 (Conv2D)       (None, 56, 56, 256)       590080    \n",
      "                                                                 \n",
      " block3_conv3 (Conv2D)       (None, 56, 56, 256)       590080    \n",
      "                                                                 \n",
      " block3_pool (MaxPooling2D)  (None, 28, 28, 256)       0         \n",
      "                                                                 \n",
      " block4_conv1 (Conv2D)       (None, 28, 28, 512)       1180160   \n",
      "                                                                 \n",
      " block4_conv2 (Conv2D)       (None, 28, 28, 512)       2359808   \n",
      "                                                                 \n",
      " block4_conv3 (Conv2D)       (None, 28, 28, 512)       2359808   \n",
      "                                                                 \n",
      " block4_pool (MaxPooling2D)  (None, 14, 14, 512)       0         \n",
      "                                                                 \n",
      " block5_conv1 (Conv2D)       (None, 14, 14, 512)       2359808   \n",
      "                                                                 \n",
      " block5_conv2 (Conv2D)       (None, 14, 14, 512)       2359808   \n",
      "                                                                 \n",
      " block5_conv3 (Conv2D)       (None, 14, 14, 512)       2359808   \n",
      "                                                                 \n",
      " block5_pool (MaxPooling2D)  (None, 7, 7, 512)         0         \n",
      "                                                                 \n",
      "=================================================================\n",
      "Total params: 14,714,688\n",
      "Trainable params: 14,714,688\n",
      "Non-trainable params: 0\n",
      "_________________________________________________________________\n",
      "Model: \"model\"\n",
      "_________________________________________________________________\n",
      " Layer (type)                Output Shape              Param #   \n",
      "=================================================================\n",
      " input_1 (InputLayer)        [(None, 224, 224, 3)]     0         \n",
      "                                                                 \n",
      " block1_conv1 (Conv2D)       (None, 224, 224, 64)      1792      \n",
      "                                                                 \n",
      " block1_conv2 (Conv2D)       (None, 224, 224, 64)      36928     \n",
      "                                                                 \n",
      " block1_pool (MaxPooling2D)  (None, 112, 112, 64)      0         \n",
      "                                                                 \n",
      " block2_conv1 (Conv2D)       (None, 112, 112, 128)     73856     \n",
      "                                                                 \n",
      " block2_conv2 (Conv2D)       (None, 112, 112, 128)     147584    \n",
      "                                                                 \n",
      " block2_pool (MaxPooling2D)  (None, 56, 56, 128)       0         \n",
      "                                                                 \n",
      " block3_conv1 (Conv2D)       (None, 56, 56, 256)       295168    \n",
      "                                                                 \n",
      " block3_conv2 (Conv2D)       (None, 56, 56, 256)       590080    \n",
      "                                                                 \n",
      " block3_conv3 (Conv2D)       (None, 56, 56, 256)       590080    \n",
      "                                                                 \n",
      " block3_pool (MaxPooling2D)  (None, 28, 28, 256)       0         \n",
      "                                                                 \n",
      " block4_conv1 (Conv2D)       (None, 28, 28, 512)       1180160   \n",
      "                                                                 \n",
      " block4_conv2 (Conv2D)       (None, 28, 28, 512)       2359808   \n",
      "                                                                 \n",
      " block4_conv3 (Conv2D)       (None, 28, 28, 512)       2359808   \n",
      "                                                                 \n",
      " block4_pool (MaxPooling2D)  (None, 14, 14, 512)       0         \n",
      "                                                                 \n",
      " block5_conv1 (Conv2D)       (None, 14, 14, 512)       2359808   \n",
      "                                                                 \n",
      " block5_conv2 (Conv2D)       (None, 14, 14, 512)       2359808   \n",
      "                                                                 \n",
      " block5_conv3 (Conv2D)       (None, 14, 14, 512)       2359808   \n",
      "                                                                 \n",
      " block5_pool (MaxPooling2D)  (None, 7, 7, 512)         0         \n",
      "                                                                 \n",
      " conv2d (Conv2D)             (None, 7, 7, 1024)        4719616   \n",
      "                                                                 \n",
      " max_pooling2d (MaxPooling2D  (None, 3, 3, 1024)       0         \n",
      " )                                                               \n",
      "                                                                 \n",
      " flatten (Flatten)           (None, 9216)              0         \n",
      "                                                                 \n",
      " dense (Dense)               (None, 128)               1179776   \n",
      "                                                                 \n",
      " dropout (Dropout)           (None, 128)               0         \n",
      "                                                                 \n",
      " dense_1 (Dense)             (None, 20)                2580      \n",
      "                                                                 \n",
      "=================================================================\n",
      "Total params: 20,616,660\n",
      "Trainable params: 5,901,972\n",
      "Non-trainable params: 14,714,688\n",
      "_________________________________________________________________\n"
     ]
    }
   ],
   "source": [
    "# Modeli oluştur ve eğit\n",
    "# A şıkkı için tamamlanması gereken model\n",
    "cnn_model = get_transfer_model()"
   ]
  },
  {
   "cell_type": "code",
   "execution_count": 4,
   "metadata": {},
   "outputs": [
    {
     "name": "stdout",
     "output_type": "stream",
     "text": [
      "[INFO] model derleniyor...\n",
      "Derlendi !!\n",
      "[INFO] Ana model egitiliyor...\n",
      "Epoch 1/20\n"
     ]
    },
    {
     "name": "stderr",
     "output_type": "stream",
     "text": [
      "2022-01-15 20:06:40.981722: I tensorflow/stream_executor/cuda/cuda_dnn.cc:366] Loaded cuDNN version 8302\n",
      "2022-01-15 20:06:41.432943: I tensorflow/core/platform/default/subprocess.cc:304] Start cannot spawn child process: No such file or directory\n"
     ]
    },
    {
     "name": "stdout",
     "output_type": "stream",
     "text": [
      "21/21 [==============================] - 8s 250ms/step - loss: 2.1817 - accuracy: 0.0640 - val_loss: 0.5374 - val_accuracy: 0.0625\n",
      "Epoch 2/20\n",
      "21/21 [==============================] - 6s 267ms/step - loss: 0.7139 - accuracy: 0.0342 - val_loss: 0.6792 - val_accuracy: 0.0804\n",
      "Epoch 3/20\n",
      "21/21 [==============================] - 6s 264ms/step - loss: 0.6803 - accuracy: 0.0521 - val_loss: 0.6424 - val_accuracy: 0.0804\n",
      "Epoch 4/20\n",
      "21/21 [==============================] - 5s 248ms/step - loss: 0.6784 - accuracy: 0.0714 - val_loss: 0.6765 - val_accuracy: 0.0804\n",
      "Epoch 5/20\n",
      "21/21 [==============================] - 6s 274ms/step - loss: 0.6843 - accuracy: 0.0685 - val_loss: 0.6627 - val_accuracy: 0.0759\n",
      "Epoch 6/20\n",
      "21/21 [==============================] - 6s 299ms/step - loss: 0.6779 - accuracy: 0.0491 - val_loss: 0.6788 - val_accuracy: 0.0446\n",
      "Epoch 7/20\n",
      "21/21 [==============================] - 5s 250ms/step - loss: 0.6871 - accuracy: 0.0506 - val_loss: 0.6425 - val_accuracy: 0.0580\n",
      "Epoch 8/20\n",
      "21/21 [==============================] - 5s 248ms/step - loss: 0.6761 - accuracy: 0.0491 - val_loss: 0.6594 - val_accuracy: 0.0580\n",
      "Epoch 9/20\n",
      "21/21 [==============================] - 5s 255ms/step - loss: 0.6727 - accuracy: 0.0491 - val_loss: 0.6073 - val_accuracy: 0.0580\n",
      "Epoch 10/20\n",
      "21/21 [==============================] - 5s 247ms/step - loss: 0.6768 - accuracy: 0.0521 - val_loss: 0.6434 - val_accuracy: 0.0580\n",
      "Epoch 11/20\n",
      "21/21 [==============================] - 5s 253ms/step - loss: 0.6841 - accuracy: 0.0685 - val_loss: 0.6825 - val_accuracy: 0.0312\n",
      "Epoch 12/20\n",
      "21/21 [==============================] - 6s 265ms/step - loss: 0.6824 - accuracy: 0.0298 - val_loss: 0.6815 - val_accuracy: 0.0312\n",
      "Epoch 13/20\n",
      "21/21 [==============================] - 6s 266ms/step - loss: 0.6809 - accuracy: 0.0298 - val_loss: 0.6805 - val_accuracy: 0.0312\n",
      "Epoch 14/20\n",
      "21/21 [==============================] - 6s 287ms/step - loss: 0.6798 - accuracy: 0.0283 - val_loss: 0.6749 - val_accuracy: 0.0179\n",
      "Epoch 15/20\n",
      "21/21 [==============================] - 6s 288ms/step - loss: 0.6796 - accuracy: 0.0164 - val_loss: 0.6785 - val_accuracy: 0.0179\n",
      "Epoch 16/20\n",
      "21/21 [==============================] - 6s 264ms/step - loss: 0.6780 - accuracy: 0.0164 - val_loss: 0.6776 - val_accuracy: 0.0179\n",
      "Epoch 17/20\n",
      "21/21 [==============================] - 5s 257ms/step - loss: 0.6770 - accuracy: 0.0164 - val_loss: 0.6766 - val_accuracy: 0.0179\n",
      "Epoch 18/20\n",
      "21/21 [==============================] - 6s 275ms/step - loss: 0.6761 - accuracy: 0.0164 - val_loss: 0.6756 - val_accuracy: 0.0179\n",
      "Epoch 19/20\n",
      "21/21 [==============================] - 6s 265ms/step - loss: 0.6751 - accuracy: 0.0164 - val_loss: 0.6704 - val_accuracy: 0.0179\n",
      "Epoch 20/20\n",
      "21/21 [==============================] - 6s 264ms/step - loss: 0.6739 - accuracy: 0.0164 - val_loss: 0.6711 - val_accuracy: 0.0179\n",
      "[INFO] Mutfak araç ve gereçleri modelini diske kaydet...\n",
      "Bitti !\n"
     ]
    },
    {
     "data": {
      "image/png": "[encoded data removed]",
      "text/plain": [
       "<Figure size 432x288 with 1 Axes>"
      ]
     },
     "metadata": {},
     "output_type": "display_data"
    }
   ],
   "source": [
    "# B şıkkı için oluşturulması gereken model\n",
    "# cnn_model = get_your_model()\n",
    "cnn_model = train_model(cnn_model, trainX, trainY, testX, testY)\n",
    "# Modeli diske kaydet\n",
    "print(\"[INFO] Mutfak araç ve gereçleri modelini diske kaydet...\")\n",
    "cnn_model.save(\"./out/kitchen_equipments_classifier.model\", save_format=\"h5\")\n",
    "print(\"Bitti !\")"
   ]
  },
  {
   "cell_type": "code",
   "execution_count": 5,
   "metadata": {},
   "outputs": [
    {
     "name": "stdout",
     "output_type": "stream",
     "text": [
      "[INFO] model degerlendiriliyor...\n",
      "0.6555461883544922\n",
      "               precision    recall  f1-score   support\n",
      "\n",
      "BOTTLE_OPENER       0.00      0.00      0.00         7\n",
      "  BREAD_KNIFE       0.00      0.00      0.00         6\n",
      "   CAN_OPENER       0.00      0.00      0.00         5\n",
      "DESSERT_SPOON       0.00      0.00      0.00         8\n",
      "  DINNER_FORK       0.00      0.00      0.00        15\n",
      " DINNER_KNIFE       0.00      0.00      0.00        13\n",
      "   FISH_SLICE       0.00      0.00      0.00        21\n",
      "KITCHEN_KNIFE       0.00      0.00      0.00        10\n",
      "        LADLE       0.00      0.00      0.00        14\n",
      "       MASHER       0.00      0.00      0.00        10\n",
      "       PEELER       0.00      0.00      0.00         4\n",
      " PIZZA_CUTTER       0.02      1.00      0.04         4\n",
      "POTATO_PEELER       0.00      0.00      0.00         5\n",
      "SERVING_SPOON       0.00      0.00      0.00        21\n",
      "   SOUP_SPOON       0.00      0.00      0.00         7\n",
      "      SPATULA       0.00      0.00      0.00        13\n",
      "    TEA_SPOON       0.00      0.00      0.00        26\n",
      "        TONGS       0.00      0.00      0.00         9\n",
      "        WHISK       0.00      0.00      0.00        11\n",
      " WOODEN_SPOON       0.00      0.00      0.00        15\n",
      "\n",
      "     accuracy                           0.02       224\n",
      "    macro avg       0.00      0.05      0.00       224\n",
      " weighted avg       0.00      0.02      0.00       224\n",
      "\n"
     ]
    },
    {
     "name": "stderr",
     "output_type": "stream",
     "text": [
      "/home/melihozaydin/.virtualenvs/YL/lib/python3.8/site-packages/sklearn/metrics/_classification.py:1308: UndefinedMetricWarning: Precision and F-score are ill-defined and being set to 0.0 in labels with no predicted samples. Use `zero_division` parameter to control this behavior.\n",
      "  _warn_prf(average, modifier, msg_start, len(result))\n",
      "/home/melihozaydin/.virtualenvs/YL/lib/python3.8/site-packages/sklearn/metrics/_classification.py:1308: UndefinedMetricWarning: Precision and F-score are ill-defined and being set to 0.0 in labels with no predicted samples. Use `zero_division` parameter to control this behavior.\n",
      "  _warn_prf(average, modifier, msg_start, len(result))\n",
      "/home/melihozaydin/.virtualenvs/YL/lib/python3.8/site-packages/sklearn/metrics/_classification.py:1308: UndefinedMetricWarning: Precision and F-score are ill-defined and being set to 0.0 in labels with no predicted samples. Use `zero_division` parameter to control this behavior.\n",
      "  _warn_prf(average, modifier, msg_start, len(result))\n"
     ]
    }
   ],
   "source": [
    "# Modeli değerlendir\n",
    "evaluate_model(cnn_model, testX, testY, lb)"
   ]
  },
  {
   "cell_type": "code",
   "execution_count": null,
   "metadata": {},
   "outputs": [],
   "source": []
  }
 ],
 "metadata": {
  "interpreter": {
   "hash": "2a0c0b08e09b01b887de4f302ed6f0edd06eb21adcb44ecb869e527a79ff52ee"
  },
  "kernelspec": {
   "display_name": "Python 3.8.10 64-bit ('YL': virtualenv)",
   "language": "python",
   "name": "python3"
  },
  "language_info": {
   "codemirror_mode": {
    "name": "ipython",
    "version": 3
   },
   "file_extension": ".py",
   "mimetype": "text/x-python",
   "name": "python",
   "nbconvert_exporter": "python",
   "pygments_lexer": "ipython3",
   "version": "3.8.10"
  },
  "orig_nbformat": 4
 },
 "nbformat": 4,
 "nbformat_minor": 2
}
