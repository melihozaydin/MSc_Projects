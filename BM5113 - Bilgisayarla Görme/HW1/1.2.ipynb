{
 "cells": [
  {
   "cell_type": "markdown",
   "metadata": {},
   "source": [
    " “images/png/street.png” görüntüsü üzerine sıfır ortalamalı 30 standart sapmalı bir Gaussian \n",
    "gürültüsü  ekleyiniz  ve ardından görüntüyü 400x400 boyutunda olacak şekilde kırpınız.\n",
    "\n",
    "\n",
    "Gürültülü kırpılmış görüntüyü, düzenli artan 8 farklı standart sapma (𝜎) değeri kullanılarak \n",
    "oluşturulmuş Gauss filtreleri ile sırasıyla  filtreleyerek bir ölçek uzayı oluşturunuz.\n",
    "\n",
    "Burada bir  sonraki  ölçeği  bir  öncekinin  1,5  katı  olacak  şekilde  belirleyiniz.  \n",
    "\n",
    "Ardından  Gauss filteleme ile oluşturulan ölçek uzayındaki görüntülerin ardışık ölçekte birbirlerinden farkını alınız. \n",
    "\n",
    "Böylece  Gauss farkları (difference  of  Gaussians-  DoG)  ölçek uzayını  elde  ediniz.\n",
    "\n",
    "Benzer şekilde aynı gürültülü  kırpılmış  görüntüyü  aynı 8  farklı 𝜎  değeri ile  oluşturulmuş \n",
    "LoG filtreleri ile sırasıyla filtreleyerek üçüncü bir ölçek uzayı oluşturunuz. \n",
    "\n",
    "Oluşturduğunuz Gauss  ölçek  uzayı  (8  görüntü),  Gauss  farkları  ölçek  uzayı (7 görüntü) ve LoG ölçek  uzayındaki (8 görüntü) görüntüleri ekrana bastırıp karşılaştırmalı olarak değerlendiriniz."
   ]
  },
  {
   "cell_type": "code",
   "execution_count": null,
   "metadata": {},
   "outputs": [],
   "source": []
  }
 ],
 "metadata": {
  "kernelspec": {
   "display_name": "Python 3.10.8 ('msc')",
   "language": "python",
   "name": "python3"
  },
  "language_info": {
   "codemirror_mode": {
    "name": "ipython",
    "version": 3
   },
   "file_extension": ".py",
   "mimetype": "text/x-python",
   "name": "python",
   "nbconvert_exporter": "python",
   "pygments_lexer": "ipython3",
   "version": "3.10.8"
  },
  "orig_nbformat": 4,
  "vscode": {
   "interpreter": {
    "hash": "685b81648249f3d12257d0bf0d098615ebcd5702ac7429b89d223fdba6cd7c34"
   }
  }
 },
 "nbformat": 4,
 "nbformat_minor": 2
}
