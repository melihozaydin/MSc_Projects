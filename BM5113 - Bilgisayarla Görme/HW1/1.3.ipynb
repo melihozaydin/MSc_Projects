{
 "cells": [
  {
   "cell_type": "markdown",
   "metadata": {},
   "source": [
    " “images/png/castle.png” görüntüsünün  x  ve  y  eksenlerindeki  kısmi türevlerini hesaplayıp eğim genliği  ve  eğim açısı  görüntülerini oluşturunuz. \n",
    " \n",
    " Açı görüntüsü içerisinden  açısı 0, 𝜋/4,  𝜋/2  ve  3𝜋/4  olan açıları  çekip ayrı görüntüler oluşturunuz.  \n",
    " \n",
    " Bu  açı  görüntülerini orijinal ve genlik görüntülerine bağlı olarak değerlendiriniz."
   ]
  },
  {
   "cell_type": "code",
   "execution_count": null,
   "metadata": {},
   "outputs": [],
   "source": []
  }
 ],
 "metadata": {
  "kernelspec": {
   "display_name": "Python 3.10.8 ('msc')",
   "language": "python",
   "name": "python3"
  },
  "language_info": {
   "name": "python",
   "version": "3.10.8"
  },
  "orig_nbformat": 4,
  "vscode": {
   "interpreter": {
    "hash": "685b81648249f3d12257d0bf0d098615ebcd5702ac7429b89d223fdba6cd7c34"
   }
  }
 },
 "nbformat": 4,
 "nbformat_minor": 2
}
