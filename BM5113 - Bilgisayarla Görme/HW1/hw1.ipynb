{
 "cells": [
  {
   "cell_type": "markdown",
   "metadata": {},
   "source": [
    "1. \n",
    "    - “images/jpg/office_1.jpg”  dosyasında yer alan renkli görüntünün 3  ayrı  kanalı  için  histogramını  hesaplayıp  analiz  ediniz.  \n",
    "\n",
    "    - Her bir  renk  kanalında  histogram  eşitleme gerçekleştiriniz.  \n",
    "\n",
    "    - Neticede  oluşan görüntünün  görünümünü  ve  histogram  analizini  yapınız.\n",
    "\n",
    "    - Yine  orijinal  görüntünün  her  bir renk kanalında  duruma  göre  log  veya  ters  log  dönüşümü gerçekleştiriniz.  \n",
    "\n",
    "    - Neticede  oluşan görüntünün  görünümünü  ve  histogram  analizini  yapınız.\n",
    "\n",
    "    - Uyguladığınız yaklaşımların görüntü kalitesini arttırmadaki etkinliğini değerlendiriniz."
   ]
  },
  {
   "cell_type": "code",
   "execution_count": null,
   "metadata": {},
   "outputs": [],
   "source": [
    "import cv2\n",
    "import matplotlib.pyplot as plt\n",
    "import numpy as np"
   ]
  },
  {
   "cell_type": "code",
   "execution_count": null,
   "metadata": {},
   "outputs": [],
   "source": [
    "from utils import img_read\n",
    "img = img_read('../images/greenscreen.jpg')"
   ]
  },
  {
   "cell_type": "code",
   "execution_count": null,
   "metadata": {},
   "outputs": [],
   "source": [
    "from utils import show_hist\n",
    "show_hist(img, channel_order=\"RGB\", cumulative=False, bins=256)"
   ]
  }
 ],
 "metadata": {
  "kernelspec": {
   "display_name": "Python 3.10.8 ('msc')",
   "language": "python",
   "name": "python3"
  },
  "language_info": {
   "name": "python",
   "version": "3.10.8"
  },
  "orig_nbformat": 4,
  "vscode": {
   "interpreter": {
    "hash": "685b81648249f3d12257d0bf0d098615ebcd5702ac7429b89d223fdba6cd7c34"
   }
  }
 },
 "nbformat": 4,
 "nbformat_minor": 2
}
