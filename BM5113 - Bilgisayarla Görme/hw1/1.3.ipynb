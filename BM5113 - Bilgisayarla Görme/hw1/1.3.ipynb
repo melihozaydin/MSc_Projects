{
 "cells": [
  {
   "cell_type": "markdown",
   "metadata": {},
   "source": [
    "# 3.\n",
    "##   3.1) “images/png/toysflash.png” görüntüsünü gri düzey bir görüntüye çevirip üzerine Gauss gürültüsü ekleyiniz. \n",
    "##   3.2) Eklediğiniz gürültüyü temizlemek için standart sağması 5 olan bir\n",
    "##   3.3) Gauss filtre oluşturunuz ve alçak geçirgen filtreleme işlemini gerçekleştiriniz. \n",
    "##   3.4) Görüntünün orijinal, gürültü eklenmiş ve filtrelenmiş durumları için 3-B grafiğini çizdiriniz. \n",
    "##   3.5) Ardından filtrelenmiş görüntünün x ve y eksenlerindeki kısmi türevlerini hesaplayıp eğim genliği ve eğim açısı görüntülerini oluşturunuz. \n",
    "##   3.6) Açı görüntüsü içerisinden açısı 𝜋, 𝜋/2, 𝜋/3 ve 2𝜋/3 olan açıları çekip ayrı görüntüler oluşturunuz ve ekrana bastırınız. \n",
    "##   3.7) Açı görüntülerinin genlik görüntüsüne bağlı olarak nasıl oluştuğunu değerlendiriniz."
   ]
  },
  {
   "cell_type": "code",
   "execution_count": null,
   "metadata": {},
   "outputs": [],
   "source": [
    "import cv2"
   ]
  },
  {
   "cell_type": "code",
   "execution_count": null,
   "metadata": {},
   "outputs": [],
   "source": []
  }
 ],
 "metadata": {
  "language_info": {
   "name": "python"
  },
  "orig_nbformat": 4
 },
 "nbformat": 4,
 "nbformat_minor": 2
}
