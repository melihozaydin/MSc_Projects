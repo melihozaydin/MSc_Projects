{
 "cells": [
  {
   "cell_type": "code",
   "execution_count": null,
   "metadata": {},
   "outputs": [],
   "source": []
  },
  {
   "cell_type": "markdown",
   "metadata": {},
   "source": [
    "1. \n",
    "    * “images/greenscreen.jpg” dosyasında yer alan renkli görüntünün 3 ayrı kanalı için\n",
    "        histogramını hesaplayıp analiz ediniz. \n",
    "\n",
    "    * Görüntünün içerisinde baskın olan renk için RGB kanallarında hangi yoğunluk değerinin oluştuğunu tespit ediniz. \n",
    "    * Bu yoğunluk değerlerini RGB kanallarında istediğiniz bir renk ile güncelleyerek görüntüdeki baskın rengin\n",
    "değişmesini sağlayınız."
   ]
  },
  {
   "cell_type": "code",
   "execution_count": null,
   "metadata": {},
   "outputs": [],
   "source": []
  },
  {
   "cell_type": "markdown",
   "metadata": {},
   "source": [
    "2. \n",
    "    * “images/png/printedtext.png” görüntüsündeki kararmanın giderilmesi için herhangi birgörüntü iyileştirme tekniği (lineer dönüşüm, gamma veya log dönüşümü, yerel veya genel\n",
    "histogram eşitleme) deneyip ikinci bir görüntü elde ediniz. \n",
    "    * İlk ve ikinci görüntünün histogramlarını bastırıp analiz ediniz. \n",
    "    * İyileştirilmiş görüntüde uygun bir eşik değeri belirleyip görüntüyü bölütleyiniz. \n",
    "    * Uyguladığınız iyileştirme yaklaşımının harfleri arka plandan ayırmada ne derece etkin olduğunu değerlendiriniz."
   ]
  },
  {
   "cell_type": "code",
   "execution_count": null,
   "metadata": {},
   "outputs": [],
   "source": []
  },
  {
   "cell_type": "markdown",
   "metadata": {},
   "source": [
    "3. \n",
    "   * “images/png/toysflash.png” görüntüsünü gri düzey bir görüntüye çevirip üzerine Gauss\n",
    "gürültüsü ekleyiniz. \n",
    "   * Eklediğiniz gürültüyü temizlemek için standart sağması 5 olan bir\n",
    "   * Gauss filtre oluşturunuz ve alçak geçirgen filtreleme işlemini gerçekleştiriniz. \n",
    "   * Görüntünün orijinal, gürültü eklenmiş ve filtrelenmiş durumları için 3-B grafiğini çizdiriniz. \n",
    "   * Ardından filtrelenmiş görüntünün x ve y eksenlerindeki kısmi türevlerini hesaplayıp eğim genliği ve\n",
    "eğim açısı görüntülerini oluşturunuz. \n",
    "   * Açı görüntüsü içerisinden açısı 𝜋, 𝜋/2, 𝜋/3 ve 2𝜋/3 olan açıları çekip ayrı görüntüler oluşturunuz ve ekrana bastırınız. \n",
    "   * Açı görüntülerinin genlik görüntüsüne bağlı olarak nasıl oluştuğunu değerlendiriniz."
   ]
  },
  {
   "cell_type": "code",
   "execution_count": null,
   "metadata": {},
   "outputs": [],
   "source": []
  },
  {
   "cell_type": "markdown",
   "metadata": {},
   "source": [
    "4. \n",
    "    * “images/sharks.png” görüntüsünü açıp ikili bir görüntü elde ediniz. \n",
    "    * Görüntü üzerinde daire şeklinde bir yapısal eleman kullanarak açma (opening) işlemi gerçekleştiriniz. \n",
    "    * Ardından görüntü üzerinde bağlı bileşen etiketleme algoritmasını çalıştırıp her bir etiketin farklı bir renkte gösterildiği etiket görüntüsünü oluşturunuz.\n",
    "    * Algoritma neticesinde görüntüde kaç adet köpek balığı sayıldığını belirtiniz."
   ]
  },
  {
   "cell_type": "code",
   "execution_count": null,
   "metadata": {},
   "outputs": [],
   "source": []
  }
 ],
 "metadata": {
  "language_info": {
   "name": "python"
  },
  "orig_nbformat": 4
 },
 "nbformat": 4,
 "nbformat_minor": 2
}
